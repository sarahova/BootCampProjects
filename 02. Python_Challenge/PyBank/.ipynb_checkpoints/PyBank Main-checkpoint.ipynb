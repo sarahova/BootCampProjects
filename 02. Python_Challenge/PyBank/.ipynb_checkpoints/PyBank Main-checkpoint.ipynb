{
 "cells": [
  {
   "cell_type": "code",
   "execution_count": 1,
   "metadata": {},
   "outputs": [],
   "source": [
    "import os\n",
    "import csv"
   ]
  },
  {
   "cell_type": "code",
   "execution_count": 2,
   "metadata": {},
   "outputs": [],
   "source": [
    "csvpath=os.path.join(\"budget_data.csv\")\n",
    "\n",
    "\n",
    "with open (csvpath, 'r', newline='') as csvfile:\n",
    "    budget_data=csv.reader(csvfile, delimiter=\",\")\n",
    "    next(budget_data, None)\n",
    "    \n",
    "    #create list of all totals\n",
    "    totals = []\n",
    "    \n",
    "    #create list of all dates\n",
    "    dates=[]\n",
    "    \n",
    "    prev_month = 0\n",
    "    curr_month =0\n",
    "    changes_month=[]\n",
    "    \n",
    "    for row in budget_data:\n",
    "        totals.append(int(row[1]))\n",
    "        dates.append(row[0])\n",
    "        \n",
    "        #calculate difference between months and populate in list\n",
    "        curr_month = int(row[1])\n",
    "        month_change = curr_month - prev_month\n",
    "        changes_month.append(month_change)\n",
    "        prev_month = curr_month\n",
    "        \n",
    "#calculate total profits/losses\n",
    "total=sum(totals)\n",
    "\n",
    "#calculate total number of months\n",
    "total_months=len(dates)\n",
    "        \n",
    "#delete value in index 0 position in the changes per month list\n",
    "del changes_month[0]\n",
    "\n",
    "#calculate average change in total month to month rounded to 2 decimal places\n",
    "average_monthly_change=round((sum(changes_month)/len(changes_month)), 2)\n",
    "\n",
    "#delete value in index 0 position in the dates list\n",
    "del dates[0]\n",
    "\n",
    "month_changes_table=zip(dates, changes_month)\n",
    "\n",
    "greatest_increase=0\n",
    "greatest_increase_mth=''\n",
    "greatest_decrease=0\n",
    "greatest_decrease_mth=''\n",
    "\n",
    "for row in month_changes_table:\n",
    "    if greatest_increase<row[1]:\n",
    "        greatest_increase=row[1]\n",
    "        greatest_increase_mth=row[0]\n",
    "    \n",
    "    if greatest_decrease>row[1]:\n",
    "        greatest_decrease=row[1]\n",
    "        greatest_decrease_mth=row[0]\n"
   ]
  },
  {
   "cell_type": "code",
   "execution_count": 3,
   "metadata": {},
   "outputs": [],
   "source": [
    "#output Financial Analysis to txt file\n",
    "output='''Financial Analysis\n",
    "------------------------\n",
    "Total Months: {0}\n",
    "Total: {1}\n",
    "Average Change: ${2}\n",
    "Greatest Increase in Profits: {3} (${4})\n",
    "Greatest Decrease in Profits: {5} (${6})\n",
    "'''.format(total_months, total, average_monthly_change, greatest_increase_mth, greatest_increase, greatest_decrease_mth, greatest_decrease)\n",
    "\n",
    "output_file = os.path.join(\"PyBank Summary.txt\")\n",
    "\n",
    "with open (output_file, 'w') as txtfile:\n",
    "    txtfile.write(output)\n"
   ]
  },
  {
   "cell_type": "code",
   "execution_count": 4,
   "metadata": {},
   "outputs": [
    {
     "name": "stdout",
     "output_type": "stream",
     "text": [
      "Financial Analysis\n",
      "------------------------\n",
      "Total Months: 86\n",
      "Total: 38382578\n",
      "Average Change: $-2315.12\n",
      "Greatest Increase in Profits: Feb-2012 ($1926159)\n",
      "Greatest Decrease in Profits: Sep-2013 ($-2196167)\n",
      "\n"
     ]
    }
   ],
   "source": [
    "#print to terminal\n",
    "print(output)"
   ]
  }
 ],
 "metadata": {
  "kernelspec": {
   "display_name": "Python 3",
   "language": "python",
   "name": "python3"
  },
  "language_info": {
   "codemirror_mode": {
    "name": "ipython",
    "version": 3
   },
   "file_extension": ".py",
   "mimetype": "text/x-python",
   "name": "python",
   "nbconvert_exporter": "python",
   "pygments_lexer": "ipython3",
   "version": "3.6.8"
  }
 },
 "nbformat": 4,
 "nbformat_minor": 2
}
